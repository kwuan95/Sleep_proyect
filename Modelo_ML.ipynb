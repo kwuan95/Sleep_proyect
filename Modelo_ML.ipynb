{
 "cells": [
  {
   "cell_type": "markdown",
   "metadata": {},
   "source": [
    "## Modelo de ML"
   ]
  },
  {
   "cell_type": "code",
   "execution_count": 2,
   "metadata": {},
   "outputs": [],
   "source": [
    "import pandas as pd\n",
    "\n",
    "# Leer el DataFrame desde el archivo CSV\n",
    "df = pd.read_csv('datos.csv')"
   ]
  },
  {
   "cell_type": "code",
   "execution_count": 4,
   "metadata": {},
   "outputs": [
    {
     "name": "stdout",
     "output_type": "stream",
     "text": [
      "Mean Squared Error (MSE): 0.14015083995526315\n",
      "Coeficiente de Determinación (R-squared): 0.907100109032718\n"
     ]
    }
   ],
   "source": [
    "import pandas as pd\n",
    "import numpy as np\n",
    "from sklearn.model_selection import train_test_split\n",
    "from sklearn.linear_model import LinearRegression\n",
    "from sklearn.metrics import mean_squared_error, r2_score\n",
    "\n",
    "# Paso 1: Preparación de los datos\n",
    "columnas_modelo = ['Age', 'Sleep Duration', 'Stress Level', 'Heart Rate', 'Quality of Sleep']\n",
    "df_modelo = df[columnas_modelo].dropna()\n",
    "\n",
    "# Paso 2: División del conjunto de datos\n",
    "X = df_modelo.drop('Quality of Sleep', axis=1)\n",
    "y = df_modelo['Quality of Sleep']\n",
    "X_train, X_test, y_train, y_test = train_test_split(X, y, test_size=0.2, random_state=42)\n",
    "\n",
    "# Paso 3: Creación del modelo y entrenamiento\n",
    "modelo = LinearRegression()\n",
    "modelo.fit(X_train, y_train)\n",
    "\n",
    "# Paso 4: Evaluación del modelo\n",
    "y_pred = modelo.predict(X_test)\n",
    "mse = mean_squared_error(y_test, y_pred)\n",
    "r2 = r2_score(y_test, y_pred)\n",
    "\n",
    "print(\"Mean Squared Error (MSE):\", mse)\n",
    "print(\"Coeficiente de Determinación (R-squared):\", r2)\n"
   ]
  },
  {
   "cell_type": "code",
   "execution_count": 8,
   "metadata": {},
   "outputs": [
    {
     "name": "stdout",
     "output_type": "stream",
     "text": [
      "Predicción de Quality of Sleep: 7.138225858451009\n"
     ]
    }
   ],
   "source": [
    "# Importar las bibliotecas necesarias\n",
    "from sklearn.linear_model import LinearRegression\n",
    "\n",
    "# Crear un nuevo modelo de regresión lineal\n",
    "modelo = LinearRegression()\n",
    "\n",
    "# Paso 1: Preparación de los datos\n",
    "columnas_modelo = ['Age', 'Sleep Duration', 'Stress Level', 'Heart Rate', 'Quality of Sleep']\n",
    "df_modelo = df[columnas_modelo].dropna()\n",
    "\n",
    "# Paso 2: División del conjunto de datos\n",
    "X = df_modelo.drop('Quality of Sleep', axis=1)\n",
    "y = df_modelo['Quality of Sleep']\n",
    "\n",
    "# Entrenar el modelo con todo el conjunto de datos\n",
    "modelo.fit(X, y)\n",
    "\n",
    "# Paso 3: Probar el modelo con los parámetros proporcionados\n",
    "nuevo_paciente = [[28, 7, 4, 75]]\n",
    "prediccion = modelo.predict(nuevo_paciente)\n",
    "\n",
    "# Mostrar la predicción\n",
    "print(\"Predicción de Quality of Sleep:\", prediccion[0])"
   ]
  },
  {
   "cell_type": "markdown",
   "metadata": {},
   "source": [
    "Finalmente cree un modelo para determinar cual es la cualidad de sueño pidiendo 4 parametro (Edad, Duracion del sueño, Nivel de estres, Ritmo Cardiaco) y lo probe con mis propios datos para determinar mi calidad de sueño\n",
    "\n",
    "7.13, Not Bad :/"
   ]
  }
 ],
 "metadata": {
  "kernelspec": {
   "display_name": "base",
   "language": "python",
   "name": "python3"
  },
  "language_info": {
   "codemirror_mode": {
    "name": "ipython",
    "version": 3
   },
   "file_extension": ".py",
   "mimetype": "text/x-python",
   "name": "python",
   "nbconvert_exporter": "python",
   "pygments_lexer": "ipython3",
   "version": "3.8.8"
  },
  "orig_nbformat": 4
 },
 "nbformat": 4,
 "nbformat_minor": 2
}
